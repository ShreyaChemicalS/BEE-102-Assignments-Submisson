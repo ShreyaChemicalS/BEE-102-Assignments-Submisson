{
  "nbformat": 4,
  "nbformat_minor": 0,
  "metadata": {
    "colab": {
      "provenance": []
    },
    "kernelspec": {
      "name": "python3",
      "display_name": "Python 3"
    },
    "language_info": {
      "name": "python"
    }
  },
  "cells": [
    {
      "cell_type": "code",
      "source": [
        "input_path = '/content/multiline_input.fasta'\n",
        "def convert_fasta(input_path, output_path):\n",
        "    with open(input_path, 'r') as infile, open(output_path, 'w') as outfile:\n",
        "        current_header = \"\"\n",
        "        current_seq = []\n",
        "\n",
        "        for line in infile:\n",
        "            line = line.strip()\n",
        "            if line.startswith(\">\"):\n",
        "                if current_header:\n",
        "                    outfile.write(current_header + \"\\n\")\n",
        "                    outfile.write(\"\".join(current_seq) + \"\\n\")\n",
        "                current_header = line\n",
        "                current_seq = []\n",
        "            else:\n",
        "                current_seq.append(line)\n",
        "\n",
        "\n",
        "        if current_header:\n",
        "            outfile.write(current_header + \"\\n\")\n",
        "            outfile.write(\"\".join(current_seq) + \"\\n\")\n",
        "\n",
        "\n",
        "convert_fasta(input_path, \"output.fasta\")"
      ],
      "metadata": {
        "id": "9AcW1UDhyrAe"
      },
      "execution_count": 2,
      "outputs": []
    }
  ]
}