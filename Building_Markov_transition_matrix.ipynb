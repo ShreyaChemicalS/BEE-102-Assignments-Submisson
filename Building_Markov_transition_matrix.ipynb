{
  "nbformat": 4,
  "nbformat_minor": 0,
  "metadata": {
    "colab": {
      "provenance": []
    },
    "kernelspec": {
      "name": "python3",
      "display_name": "Python 3"
    },
    "language_info": {
      "name": "python"
    }
  },
  "cells": [
    {
      "cell_type": "code",
      "execution_count": null,
      "metadata": {
        "id": "ClX1FtS49zaN"
      },
      "outputs": [],
      "source": []
    },
    {
      "cell_type": "code",
      "source": [
        "from collections import defaultdict\n",
        "import numpy as np\n",
        "import pandas as pd\n",
        "sequence = \"GTTCTACTTGCGGACGGATCGTAACCGAACTGGCCCGGATCTTTCATCCTCATGTAGATGCACAAAAGGTTCATCTAATAGTACTACCTCTTCTACTCGC\"\n",
        "states = ['A', 'T', 'C', 'G']\n"
      ],
      "metadata": {
        "id": "ZcPcByDuEWch"
      },
      "execution_count": 1,
      "outputs": []
    },
    {
      "cell_type": "code",
      "source": [
        "transition_counts = defaultdict(lambda: defaultdict(int))\n"
      ],
      "metadata": {
        "id": "NBetEVerEqpX"
      },
      "execution_count": 2,
      "outputs": []
    },
    {
      "cell_type": "code",
      "source": [
        "for i in range(len(sequence) - 1):\n",
        "    curr = sequence[i]      # current letter\n",
        "    nxt = sequence[i+1]     # next letter\n",
        "    transition_counts[curr][nxt] += 1\n"
      ],
      "metadata": {
        "id": "SUXNrMdqEuwl"
      },
      "execution_count": 3,
      "outputs": []
    },
    {
      "cell_type": "code",
      "source": [
        "matrix = pd.DataFrame(index=states, columns=states).fillna(0)\n"
      ],
      "metadata": {
        "colab": {
          "base_uri": "https://localhost:8080/"
        },
        "id": "0XF2kGO8ExW6",
        "outputId": "5d445a00-5d9e-4e35-f806-67caf493e9f8"
      },
      "execution_count": 4,
      "outputs": [
        {
          "output_type": "stream",
          "name": "stderr",
          "text": [
            "<ipython-input-4-d38da86a30aa>:1: FutureWarning: Downcasting object dtype arrays on .fillna, .ffill, .bfill is deprecated and will change in a future version. Call result.infer_objects(copy=False) instead. To opt-in to the future behavior, set `pd.set_option('future.no_silent_downcasting', True)`\n",
            "  matrix = pd.DataFrame(index=states, columns=states).fillna(0)\n"
          ]
        }
      ]
    },
    {
      "cell_type": "code",
      "source": [
        "for curr in states:\n",
        "    total = sum(transition_counts[curr].values())\n",
        "    for nxt in states:\n",
        "        if total > 0:\n",
        "            matrix.loc[curr, nxt] = transition_counts[curr][nxt] / total\n"
      ],
      "metadata": {
        "colab": {
          "base_uri": "https://localhost:8080/"
        },
        "id": "zrMRfMjuFEjW",
        "outputId": "aec0eef2-1c58-4757-80e0-ca2296945d4f"
      },
      "execution_count": 5,
      "outputs": [
        {
          "output_type": "stream",
          "name": "stderr",
          "text": [
            "<ipython-input-5-cce837746fd1>:5: FutureWarning: Setting an item of incompatible dtype is deprecated and will raise an error in a future version of pandas. Value '0.25' has dtype incompatible with int64, please explicitly cast to a compatible dtype first.\n",
            "  matrix.loc[curr, nxt] = transition_counts[curr][nxt] / total\n",
            "<ipython-input-5-cce837746fd1>:5: FutureWarning: Setting an item of incompatible dtype is deprecated and will raise an error in a future version of pandas. Value '0.2916666666666667' has dtype incompatible with int64, please explicitly cast to a compatible dtype first.\n",
            "  matrix.loc[curr, nxt] = transition_counts[curr][nxt] / total\n",
            "<ipython-input-5-cce837746fd1>:5: FutureWarning: Setting an item of incompatible dtype is deprecated and will raise an error in a future version of pandas. Value '0.3333333333333333' has dtype incompatible with int64, please explicitly cast to a compatible dtype first.\n",
            "  matrix.loc[curr, nxt] = transition_counts[curr][nxt] / total\n",
            "<ipython-input-5-cce837746fd1>:5: FutureWarning: Setting an item of incompatible dtype is deprecated and will raise an error in a future version of pandas. Value '0.125' has dtype incompatible with int64, please explicitly cast to a compatible dtype first.\n",
            "  matrix.loc[curr, nxt] = transition_counts[curr][nxt] / total\n"
          ]
        }
      ]
    },
    {
      "cell_type": "code",
      "source": [
        "print(\"Transition Matrix:\")\n",
        "print(matrix)\n"
      ],
      "metadata": {
        "colab": {
          "base_uri": "https://localhost:8080/"
        },
        "id": "y5_TfRAPFIU5",
        "outputId": "14793ed8-39af-40dc-feab-7d05cb1ad3f2"
      },
      "execution_count": 6,
      "outputs": [
        {
          "output_type": "stream",
          "name": "stdout",
          "text": [
            "Transition Matrix:\n",
            "          A         T         C         G\n",
            "A  0.250000  0.291667  0.333333  0.125000\n",
            "T  0.275862  0.206897  0.379310  0.137931\n",
            "C  0.185185  0.407407  0.185185  0.222222\n",
            "G  0.263158  0.263158  0.210526  0.263158\n"
          ]
        }
      ]
    }
  ]
}